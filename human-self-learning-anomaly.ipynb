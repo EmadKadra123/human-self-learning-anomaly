{
 "cells": [
  {
   "cell_type": "code",
   "execution_count": 1,
   "id": "031c308e",
   "metadata": {
    "execution": {
     "iopub.execute_input": "2022-06-04T15:49:09.852460Z",
     "iopub.status.busy": "2022-06-04T15:49:09.851804Z",
     "iopub.status.idle": "2022-06-04T15:49:09.869835Z",
     "shell.execute_reply": "2022-06-04T15:49:09.868904Z"
    },
    "papermill": {
     "duration": 0.033167,
     "end_time": "2022-06-04T15:49:09.872596",
     "exception": false,
     "start_time": "2022-06-04T15:49:09.839429",
     "status": "completed"
    },
    "tags": []
   },
   "outputs": [
    {
     "name": "stdout",
     "output_type": "stream",
     "text": [
      "/kaggle/input/iris-flower-dataset/IRIS.csv\n"
     ]
    }
   ],
   "source": [
    "# This Python 3 environment comes with many helpful analytics libraries installed\n",
    "# It is defined by the kaggle/python Docker image: https://github.com/kaggle/docker-python\n",
    "# For example, here's several helpful packages to load\n",
    "\n",
    "import numpy as np # linear algebra\n",
    "import pandas as pd # data processing, CSV file I/O (e.g. pd.read_csv)\n",
    "\n",
    "# Input data files are available in the read-only \"../input/\" directory\n",
    "# For example, running this (by clicking run or pressing Shift+Enter) will list all files under the input directory\n",
    "\n",
    "import os\n",
    "for dirname, _, filenames in os.walk('/kaggle/input'):\n",
    "    for filename in filenames:\n",
    "        print(os.path.join(dirname, filename))\n",
    "\n",
    "# You can write up to 20GB to the current directory (/kaggle/working/) that gets preserved as output when you create a version using \"Save & Run All\" \n",
    "# You can also write temporary files to /kaggle/temp/, but they won't be saved outside of the current session"
   ]
  },
  {
   "cell_type": "code",
   "execution_count": 2,
   "id": "977aa581",
   "metadata": {
    "execution": {
     "iopub.execute_input": "2022-06-04T15:49:09.890316Z",
     "iopub.status.busy": "2022-06-04T15:49:09.889589Z",
     "iopub.status.idle": "2022-06-04T15:49:09.920115Z",
     "shell.execute_reply": "2022-06-04T15:49:09.919135Z"
    },
    "papermill": {
     "duration": 0.041292,
     "end_time": "2022-06-04T15:49:09.922187",
     "exception": false,
     "start_time": "2022-06-04T15:49:09.880895",
     "status": "completed"
    },
    "tags": []
   },
   "outputs": [
    {
     "data": {
      "text/html": [
       "<div>\n",
       "<style scoped>\n",
       "    .dataframe tbody tr th:only-of-type {\n",
       "        vertical-align: middle;\n",
       "    }\n",
       "\n",
       "    .dataframe tbody tr th {\n",
       "        vertical-align: top;\n",
       "    }\n",
       "\n",
       "    .dataframe thead th {\n",
       "        text-align: right;\n",
       "    }\n",
       "</style>\n",
       "<table border=\"1\" class=\"dataframe\">\n",
       "  <thead>\n",
       "    <tr style=\"text-align: right;\">\n",
       "      <th></th>\n",
       "      <th>sepal_length</th>\n",
       "      <th>sepal_width</th>\n",
       "      <th>petal_length</th>\n",
       "      <th>petal_width</th>\n",
       "      <th>species</th>\n",
       "    </tr>\n",
       "  </thead>\n",
       "  <tbody>\n",
       "    <tr>\n",
       "      <th>0</th>\n",
       "      <td>5.1</td>\n",
       "      <td>3.5</td>\n",
       "      <td>1.4</td>\n",
       "      <td>0.2</td>\n",
       "      <td>Iris-setosa</td>\n",
       "    </tr>\n",
       "    <tr>\n",
       "      <th>1</th>\n",
       "      <td>4.9</td>\n",
       "      <td>3.0</td>\n",
       "      <td>1.4</td>\n",
       "      <td>0.2</td>\n",
       "      <td>Iris-setosa</td>\n",
       "    </tr>\n",
       "    <tr>\n",
       "      <th>2</th>\n",
       "      <td>4.7</td>\n",
       "      <td>3.2</td>\n",
       "      <td>1.3</td>\n",
       "      <td>0.2</td>\n",
       "      <td>Iris-setosa</td>\n",
       "    </tr>\n",
       "    <tr>\n",
       "      <th>3</th>\n",
       "      <td>4.6</td>\n",
       "      <td>3.1</td>\n",
       "      <td>1.5</td>\n",
       "      <td>0.2</td>\n",
       "      <td>Iris-setosa</td>\n",
       "    </tr>\n",
       "    <tr>\n",
       "      <th>4</th>\n",
       "      <td>5.0</td>\n",
       "      <td>3.6</td>\n",
       "      <td>1.4</td>\n",
       "      <td>0.2</td>\n",
       "      <td>Iris-setosa</td>\n",
       "    </tr>\n",
       "  </tbody>\n",
       "</table>\n",
       "</div>"
      ],
      "text/plain": [
       "   sepal_length  sepal_width  petal_length  petal_width      species\n",
       "0           5.1          3.5           1.4          0.2  Iris-setosa\n",
       "1           4.9          3.0           1.4          0.2  Iris-setosa\n",
       "2           4.7          3.2           1.3          0.2  Iris-setosa\n",
       "3           4.6          3.1           1.5          0.2  Iris-setosa\n",
       "4           5.0          3.6           1.4          0.2  Iris-setosa"
      ]
     },
     "execution_count": 2,
     "metadata": {},
     "output_type": "execute_result"
    }
   ],
   "source": [
    "data = pd.read_csv('/kaggle/input/iris-flower-dataset/IRIS.csv')\n",
    "data.head()"
   ]
  },
  {
   "cell_type": "code",
   "execution_count": 3,
   "id": "71220267",
   "metadata": {
    "execution": {
     "iopub.execute_input": "2022-06-04T15:49:09.938545Z",
     "iopub.status.busy": "2022-06-04T15:49:09.937862Z",
     "iopub.status.idle": "2022-06-04T15:49:09.962441Z",
     "shell.execute_reply": "2022-06-04T15:49:09.961312Z"
    },
    "papermill": {
     "duration": 0.035882,
     "end_time": "2022-06-04T15:49:09.965384",
     "exception": false,
     "start_time": "2022-06-04T15:49:09.929502",
     "status": "completed"
    },
    "tags": []
   },
   "outputs": [
    {
     "name": "stdout",
     "output_type": "stream",
     "text": [
      "<class 'pandas.core.frame.DataFrame'>\n",
      "RangeIndex: 150 entries, 0 to 149\n",
      "Data columns (total 5 columns):\n",
      " #   Column        Non-Null Count  Dtype  \n",
      "---  ------        --------------  -----  \n",
      " 0   sepal_length  150 non-null    float64\n",
      " 1   sepal_width   150 non-null    float64\n",
      " 2   petal_length  150 non-null    float64\n",
      " 3   petal_width   150 non-null    float64\n",
      " 4   species       150 non-null    object \n",
      "dtypes: float64(4), object(1)\n",
      "memory usage: 6.0+ KB\n"
     ]
    }
   ],
   "source": [
    "data.info()"
   ]
  },
  {
   "cell_type": "code",
   "execution_count": 4,
   "id": "6ddb2196",
   "metadata": {
    "execution": {
     "iopub.execute_input": "2022-06-04T15:49:09.982818Z",
     "iopub.status.busy": "2022-06-04T15:49:09.981887Z",
     "iopub.status.idle": "2022-06-04T15:49:10.008214Z",
     "shell.execute_reply": "2022-06-04T15:49:10.007148Z"
    },
    "papermill": {
     "duration": 0.036842,
     "end_time": "2022-06-04T15:49:10.010416",
     "exception": false,
     "start_time": "2022-06-04T15:49:09.973574",
     "status": "completed"
    },
    "tags": []
   },
   "outputs": [
    {
     "data": {
      "text/html": [
       "<div>\n",
       "<style scoped>\n",
       "    .dataframe tbody tr th:only-of-type {\n",
       "        vertical-align: middle;\n",
       "    }\n",
       "\n",
       "    .dataframe tbody tr th {\n",
       "        vertical-align: top;\n",
       "    }\n",
       "\n",
       "    .dataframe thead th {\n",
       "        text-align: right;\n",
       "    }\n",
       "</style>\n",
       "<table border=\"1\" class=\"dataframe\">\n",
       "  <thead>\n",
       "    <tr style=\"text-align: right;\">\n",
       "      <th></th>\n",
       "      <th>sepal_length</th>\n",
       "      <th>sepal_width</th>\n",
       "      <th>petal_length</th>\n",
       "      <th>petal_width</th>\n",
       "      <th>species</th>\n",
       "    </tr>\n",
       "  </thead>\n",
       "  <tbody>\n",
       "    <tr>\n",
       "      <th>count</th>\n",
       "      <td>150.000000</td>\n",
       "      <td>150.000000</td>\n",
       "      <td>150.000000</td>\n",
       "      <td>150.000000</td>\n",
       "      <td>150</td>\n",
       "    </tr>\n",
       "    <tr>\n",
       "      <th>unique</th>\n",
       "      <td>NaN</td>\n",
       "      <td>NaN</td>\n",
       "      <td>NaN</td>\n",
       "      <td>NaN</td>\n",
       "      <td>3</td>\n",
       "    </tr>\n",
       "    <tr>\n",
       "      <th>top</th>\n",
       "      <td>NaN</td>\n",
       "      <td>NaN</td>\n",
       "      <td>NaN</td>\n",
       "      <td>NaN</td>\n",
       "      <td>Iris-setosa</td>\n",
       "    </tr>\n",
       "    <tr>\n",
       "      <th>freq</th>\n",
       "      <td>NaN</td>\n",
       "      <td>NaN</td>\n",
       "      <td>NaN</td>\n",
       "      <td>NaN</td>\n",
       "      <td>50</td>\n",
       "    </tr>\n",
       "    <tr>\n",
       "      <th>mean</th>\n",
       "      <td>5.843333</td>\n",
       "      <td>3.054000</td>\n",
       "      <td>3.758667</td>\n",
       "      <td>1.198667</td>\n",
       "      <td>NaN</td>\n",
       "    </tr>\n",
       "    <tr>\n",
       "      <th>std</th>\n",
       "      <td>0.828066</td>\n",
       "      <td>0.433594</td>\n",
       "      <td>1.764420</td>\n",
       "      <td>0.763161</td>\n",
       "      <td>NaN</td>\n",
       "    </tr>\n",
       "    <tr>\n",
       "      <th>min</th>\n",
       "      <td>4.300000</td>\n",
       "      <td>2.000000</td>\n",
       "      <td>1.000000</td>\n",
       "      <td>0.100000</td>\n",
       "      <td>NaN</td>\n",
       "    </tr>\n",
       "    <tr>\n",
       "      <th>25%</th>\n",
       "      <td>5.100000</td>\n",
       "      <td>2.800000</td>\n",
       "      <td>1.600000</td>\n",
       "      <td>0.300000</td>\n",
       "      <td>NaN</td>\n",
       "    </tr>\n",
       "    <tr>\n",
       "      <th>50%</th>\n",
       "      <td>5.800000</td>\n",
       "      <td>3.000000</td>\n",
       "      <td>4.350000</td>\n",
       "      <td>1.300000</td>\n",
       "      <td>NaN</td>\n",
       "    </tr>\n",
       "    <tr>\n",
       "      <th>75%</th>\n",
       "      <td>6.400000</td>\n",
       "      <td>3.300000</td>\n",
       "      <td>5.100000</td>\n",
       "      <td>1.800000</td>\n",
       "      <td>NaN</td>\n",
       "    </tr>\n",
       "    <tr>\n",
       "      <th>max</th>\n",
       "      <td>7.900000</td>\n",
       "      <td>4.400000</td>\n",
       "      <td>6.900000</td>\n",
       "      <td>2.500000</td>\n",
       "      <td>NaN</td>\n",
       "    </tr>\n",
       "  </tbody>\n",
       "</table>\n",
       "</div>"
      ],
      "text/plain": [
       "        sepal_length  sepal_width  petal_length  petal_width      species\n",
       "count     150.000000   150.000000    150.000000   150.000000          150\n",
       "unique           NaN          NaN           NaN          NaN            3\n",
       "top              NaN          NaN           NaN          NaN  Iris-setosa\n",
       "freq             NaN          NaN           NaN          NaN           50\n",
       "mean        5.843333     3.054000      3.758667     1.198667          NaN\n",
       "std         0.828066     0.433594      1.764420     0.763161          NaN\n",
       "min         4.300000     2.000000      1.000000     0.100000          NaN\n",
       "25%         5.100000     2.800000      1.600000     0.300000          NaN\n",
       "50%         5.800000     3.000000      4.350000     1.300000          NaN\n",
       "75%         6.400000     3.300000      5.100000     1.800000          NaN\n",
       "max         7.900000     4.400000      6.900000     2.500000          NaN"
      ]
     },
     "execution_count": 4,
     "metadata": {},
     "output_type": "execute_result"
    }
   ],
   "source": [
    "data.describe(include='all')"
   ]
  },
  {
   "cell_type": "code",
   "execution_count": 5,
   "id": "3345e882",
   "metadata": {
    "execution": {
     "iopub.execute_input": "2022-06-04T15:49:10.027379Z",
     "iopub.status.busy": "2022-06-04T15:49:10.026984Z",
     "iopub.status.idle": "2022-06-04T15:49:11.256576Z",
     "shell.execute_reply": "2022-06-04T15:49:11.255645Z"
    },
    "papermill": {
     "duration": 1.240912,
     "end_time": "2022-06-04T15:49:11.258977",
     "exception": false,
     "start_time": "2022-06-04T15:49:10.018065",
     "status": "completed"
    },
    "tags": []
   },
   "outputs": [],
   "source": [
    "from sklearn.preprocessing import LabelEncoder\n",
    "import matplotlib.pyplot as plt\n",
    "import seaborn as sns\n",
    "%matplotlib inline"
   ]
  },
  {
   "cell_type": "code",
   "execution_count": 6,
   "id": "971a4bbc",
   "metadata": {
    "execution": {
     "iopub.execute_input": "2022-06-04T15:49:11.275996Z",
     "iopub.status.busy": "2022-06-04T15:49:11.275366Z",
     "iopub.status.idle": "2022-06-04T15:49:11.282046Z",
     "shell.execute_reply": "2022-06-04T15:49:11.281158Z"
    },
    "papermill": {
     "duration": 0.017383,
     "end_time": "2022-06-04T15:49:11.284112",
     "exception": false,
     "start_time": "2022-06-04T15:49:11.266729",
     "status": "completed"
    },
    "tags": []
   },
   "outputs": [
    {
     "data": {
      "text/plain": [
       "array(['Iris-setosa', 'Iris-versicolor', 'Iris-virginica'], dtype=object)"
      ]
     },
     "execution_count": 6,
     "metadata": {},
     "output_type": "execute_result"
    }
   ],
   "source": [
    "data['species'].unique()"
   ]
  },
  {
   "cell_type": "code",
   "execution_count": 7,
   "id": "a253a78c",
   "metadata": {
    "execution": {
     "iopub.execute_input": "2022-06-04T15:49:11.301621Z",
     "iopub.status.busy": "2022-06-04T15:49:11.300719Z",
     "iopub.status.idle": "2022-06-04T15:49:11.314592Z",
     "shell.execute_reply": "2022-06-04T15:49:11.313640Z"
    },
    "papermill": {
     "duration": 0.024801,
     "end_time": "2022-06-04T15:49:11.316579",
     "exception": false,
     "start_time": "2022-06-04T15:49:11.291778",
     "status": "completed"
    },
    "tags": []
   },
   "outputs": [
    {
     "data": {
      "text/html": [
       "<div>\n",
       "<style scoped>\n",
       "    .dataframe tbody tr th:only-of-type {\n",
       "        vertical-align: middle;\n",
       "    }\n",
       "\n",
       "    .dataframe tbody tr th {\n",
       "        vertical-align: top;\n",
       "    }\n",
       "\n",
       "    .dataframe thead th {\n",
       "        text-align: right;\n",
       "    }\n",
       "</style>\n",
       "<table border=\"1\" class=\"dataframe\">\n",
       "  <thead>\n",
       "    <tr style=\"text-align: right;\">\n",
       "      <th></th>\n",
       "      <th>sepal_length</th>\n",
       "      <th>sepal_width</th>\n",
       "      <th>petal_length</th>\n",
       "      <th>petal_width</th>\n",
       "      <th>species</th>\n",
       "    </tr>\n",
       "  </thead>\n",
       "  <tbody>\n",
       "    <tr>\n",
       "      <th>0</th>\n",
       "      <td>5.1</td>\n",
       "      <td>3.5</td>\n",
       "      <td>1.4</td>\n",
       "      <td>0.2</td>\n",
       "      <td>0</td>\n",
       "    </tr>\n",
       "    <tr>\n",
       "      <th>1</th>\n",
       "      <td>4.9</td>\n",
       "      <td>3.0</td>\n",
       "      <td>1.4</td>\n",
       "      <td>0.2</td>\n",
       "      <td>0</td>\n",
       "    </tr>\n",
       "    <tr>\n",
       "      <th>2</th>\n",
       "      <td>4.7</td>\n",
       "      <td>3.2</td>\n",
       "      <td>1.3</td>\n",
       "      <td>0.2</td>\n",
       "      <td>0</td>\n",
       "    </tr>\n",
       "    <tr>\n",
       "      <th>3</th>\n",
       "      <td>4.6</td>\n",
       "      <td>3.1</td>\n",
       "      <td>1.5</td>\n",
       "      <td>0.2</td>\n",
       "      <td>0</td>\n",
       "    </tr>\n",
       "    <tr>\n",
       "      <th>4</th>\n",
       "      <td>5.0</td>\n",
       "      <td>3.6</td>\n",
       "      <td>1.4</td>\n",
       "      <td>0.2</td>\n",
       "      <td>0</td>\n",
       "    </tr>\n",
       "  </tbody>\n",
       "</table>\n",
       "</div>"
      ],
      "text/plain": [
       "   sepal_length  sepal_width  petal_length  petal_width  species\n",
       "0           5.1          3.5           1.4          0.2        0\n",
       "1           4.9          3.0           1.4          0.2        0\n",
       "2           4.7          3.2           1.3          0.2        0\n",
       "3           4.6          3.1           1.5          0.2        0\n",
       "4           5.0          3.6           1.4          0.2        0"
      ]
     },
     "execution_count": 7,
     "metadata": {},
     "output_type": "execute_result"
    }
   ],
   "source": [
    "le = LabelEncoder()\n",
    "data['species']=le.fit_transform(data['species'])\n",
    "data.head()"
   ]
  },
  {
   "cell_type": "code",
   "execution_count": 8,
   "id": "150c98fb",
   "metadata": {
    "execution": {
     "iopub.execute_input": "2022-06-04T15:49:11.334448Z",
     "iopub.status.busy": "2022-06-04T15:49:11.333370Z",
     "iopub.status.idle": "2022-06-04T15:49:11.348297Z",
     "shell.execute_reply": "2022-06-04T15:49:11.347324Z"
    },
    "papermill": {
     "duration": 0.026013,
     "end_time": "2022-06-04T15:49:11.350345",
     "exception": false,
     "start_time": "2022-06-04T15:49:11.324332",
     "status": "completed"
    },
    "tags": []
   },
   "outputs": [
    {
     "data": {
      "text/html": [
       "<div>\n",
       "<style scoped>\n",
       "    .dataframe tbody tr th:only-of-type {\n",
       "        vertical-align: middle;\n",
       "    }\n",
       "\n",
       "    .dataframe tbody tr th {\n",
       "        vertical-align: top;\n",
       "    }\n",
       "\n",
       "    .dataframe thead th {\n",
       "        text-align: right;\n",
       "    }\n",
       "</style>\n",
       "<table border=\"1\" class=\"dataframe\">\n",
       "  <thead>\n",
       "    <tr style=\"text-align: right;\">\n",
       "      <th></th>\n",
       "      <th>sepal_length</th>\n",
       "      <th>sepal_width</th>\n",
       "      <th>petal_length</th>\n",
       "      <th>petal_width</th>\n",
       "      <th>species</th>\n",
       "    </tr>\n",
       "  </thead>\n",
       "  <tbody>\n",
       "    <tr>\n",
       "      <th>sepal_length</th>\n",
       "      <td>1.000000</td>\n",
       "      <td>-0.109369</td>\n",
       "      <td>0.871754</td>\n",
       "      <td>0.817954</td>\n",
       "      <td>0.782561</td>\n",
       "    </tr>\n",
       "    <tr>\n",
       "      <th>sepal_width</th>\n",
       "      <td>-0.109369</td>\n",
       "      <td>1.000000</td>\n",
       "      <td>-0.420516</td>\n",
       "      <td>-0.356544</td>\n",
       "      <td>-0.419446</td>\n",
       "    </tr>\n",
       "    <tr>\n",
       "      <th>petal_length</th>\n",
       "      <td>0.871754</td>\n",
       "      <td>-0.420516</td>\n",
       "      <td>1.000000</td>\n",
       "      <td>0.962757</td>\n",
       "      <td>0.949043</td>\n",
       "    </tr>\n",
       "    <tr>\n",
       "      <th>petal_width</th>\n",
       "      <td>0.817954</td>\n",
       "      <td>-0.356544</td>\n",
       "      <td>0.962757</td>\n",
       "      <td>1.000000</td>\n",
       "      <td>0.956464</td>\n",
       "    </tr>\n",
       "    <tr>\n",
       "      <th>species</th>\n",
       "      <td>0.782561</td>\n",
       "      <td>-0.419446</td>\n",
       "      <td>0.949043</td>\n",
       "      <td>0.956464</td>\n",
       "      <td>1.000000</td>\n",
       "    </tr>\n",
       "  </tbody>\n",
       "</table>\n",
       "</div>"
      ],
      "text/plain": [
       "              sepal_length  sepal_width  petal_length  petal_width   species\n",
       "sepal_length      1.000000    -0.109369      0.871754     0.817954  0.782561\n",
       "sepal_width      -0.109369     1.000000     -0.420516    -0.356544 -0.419446\n",
       "petal_length      0.871754    -0.420516      1.000000     0.962757  0.949043\n",
       "petal_width       0.817954    -0.356544      0.962757     1.000000  0.956464\n",
       "species           0.782561    -0.419446      0.949043     0.956464  1.000000"
      ]
     },
     "execution_count": 8,
     "metadata": {},
     "output_type": "execute_result"
    }
   ],
   "source": [
    "data.corr()"
   ]
  },
  {
   "cell_type": "code",
   "execution_count": 9,
   "id": "d660e5e7",
   "metadata": {
    "execution": {
     "iopub.execute_input": "2022-06-04T15:49:11.368742Z",
     "iopub.status.busy": "2022-06-04T15:49:11.367709Z",
     "iopub.status.idle": "2022-06-04T15:49:11.648064Z",
     "shell.execute_reply": "2022-06-04T15:49:11.647015Z"
    },
    "papermill": {
     "duration": 0.293099,
     "end_time": "2022-06-04T15:49:11.651450",
     "exception": false,
     "start_time": "2022-06-04T15:49:11.358351",
     "status": "completed"
    },
    "tags": []
   },
   "outputs": [
    {
     "data": {
      "text/plain": [
       "<AxesSubplot:>"
      ]
     },
     "execution_count": 9,
     "metadata": {},
     "output_type": "execute_result"
    },
    {
     "data": {
      "image/png": "[encoded data removed]",
      "text/plain": [
       "<Figure size 432x288 with 2 Axes>"
      ]
     },
     "metadata": {
      "needs_background": "light"
     },
     "output_type": "display_data"
    }
   ],
   "source": [
    "sns.heatmap(data.corr())"
   ]
  },
  {
   "cell_type": "code",
   "execution_count": 10,
   "id": "52c045d2",
   "metadata": {
    "execution": {
     "iopub.execute_input": "2022-06-04T15:49:11.671282Z",
     "iopub.status.busy": "2022-06-04T15:49:11.670910Z",
     "iopub.status.idle": "2022-06-04T15:49:11.900323Z",
     "shell.execute_reply": "2022-06-04T15:49:11.899198Z"
    },
    "papermill": {
     "duration": 0.241741,
     "end_time": "2022-06-04T15:49:11.902638",
     "exception": false,
     "start_time": "2022-06-04T15:49:11.660897",
     "status": "completed"
    },
    "tags": []
   },
   "outputs": [
    {
     "data": {
      "text/plain": [
       "<AxesSubplot:xlabel='sepal_length', ylabel='species'>"
      ]
     },
     "execution_count": 10,
     "metadata": {},
     "output_type": "execute_result"
    },
    {
     "data": {
      "image/png": "[encoded data removed]",
      "text/plain": [
       "<Figure size 432x288 with 1 Axes>"
      ]
     },
     "metadata": {
      "needs_background": "light"
     },
     "output_type": "display_data"
    }
   ],
   "source": [
    "sns.scatterplot(x='sepal_length',y='species', data=data)"
   ]
  },
  {
   "cell_type": "code",
   "execution_count": 11,
   "id": "89525ee4",
   "metadata": {
    "execution": {
     "iopub.execute_input": "2022-06-04T15:49:11.923138Z",
     "iopub.status.busy": "2022-06-04T15:49:11.922167Z",
     "iopub.status.idle": "2022-06-04T15:49:12.140207Z",
     "shell.execute_reply": "2022-06-04T15:49:12.139106Z"
    },
    "papermill": {
     "duration": 0.23068,
     "end_time": "2022-06-04T15:49:12.142492",
     "exception": false,
     "start_time": "2022-06-04T15:49:11.911812",
     "status": "completed"
    },
    "tags": []
   },
   "outputs": [
    {
     "data": {
      "text/plain": [
       "<AxesSubplot:xlabel='sepal_width', ylabel='species'>"
      ]
     },
     "execution_count": 11,
     "metadata": {},
     "output_type": "execute_result"
    },
    {
     "data": {
      "image/png": "[encoded data removed]",
      "text/plain": [
       "<Figure size 432x288 with 1 Axes>"
      ]
     },
     "metadata": {
      "needs_background": "light"
     },
     "output_type": "display_data"
    }
   ],
   "source": [
    "sns.scatterplot(x='sepal_width',y='species', data=data)"
   ]
  },
  {
   "cell_type": "code",
   "execution_count": 12,
   "id": "0ba49631",
   "metadata": {
    "execution": {
     "iopub.execute_input": "2022-06-04T15:49:12.163106Z",
     "iopub.status.busy": "2022-06-04T15:49:12.162676Z",
     "iopub.status.idle": "2022-06-04T15:49:12.380670Z",
     "shell.execute_reply": "2022-06-04T15:49:12.379906Z"
    },
    "papermill": {
     "duration": 0.230572,
     "end_time": "2022-06-04T15:49:12.382687",
     "exception": false,
     "start_time": "2022-06-04T15:49:12.152115",
     "status": "completed"
    },
    "tags": []
   },
   "outputs": [
    {
     "data": {
      "text/plain": [
       "<AxesSubplot:xlabel='petal_length', ylabel='species'>"
      ]
     },
     "execution_count": 12,
     "metadata": {},
     "output_type": "execute_result"
    },
    {
     "data": {
      "image/png": "[encoded data removed]",
      "text/plain": [
       "<Figure size 432x288 with 1 Axes>"
      ]
     },
     "metadata": {
      "needs_background": "light"
     },
     "output_type": "display_data"
    }
   ],
   "source": [
    "sns.scatterplot(x='petal_length',y='species', data=data)"
   ]
  },
  {
   "cell_type": "code",
   "execution_count": 13,
   "id": "0d00c8d2",
   "metadata": {
    "execution": {
     "iopub.execute_input": "2022-06-04T15:49:12.404179Z",
     "iopub.status.busy": "2022-06-04T15:49:12.403175Z",
     "iopub.status.idle": "2022-06-04T15:49:12.611604Z",
     "shell.execute_reply": "2022-06-04T15:49:12.610889Z"
    },
    "papermill": {
     "duration": 0.220987,
     "end_time": "2022-06-04T15:49:12.613448",
     "exception": false,
     "start_time": "2022-06-04T15:49:12.392461",
     "status": "completed"
    },
    "tags": []
   },
   "outputs": [
    {
     "data": {
      "text/plain": [
       "<AxesSubplot:xlabel='petal_width', ylabel='species'>"
      ]
     },
     "execution_count": 13,
     "metadata": {},
     "output_type": "execute_result"
    },
    {
     "data": {
      "image/png": "[encoded data removed]",
      "text/plain": [
       "<Figure size 432x288 with 1 Axes>"
      ]
     },
     "metadata": {
      "needs_background": "light"
     },
     "output_type": "display_data"
    }
   ],
   "source": [
    "sns.scatterplot(x='petal_width',y='species', data=data)"
   ]
  },
  {
   "cell_type": "code",
   "execution_count": 14,
   "id": "1d6eedcd",
   "metadata": {
    "execution": {
     "iopub.execute_input": "2022-06-04T15:49:12.635196Z",
     "iopub.status.busy": "2022-06-04T15:49:12.634639Z",
     "iopub.status.idle": "2022-06-04T15:49:12.790111Z",
     "shell.execute_reply": "2022-06-04T15:49:12.789355Z"
    },
    "papermill": {
     "duration": 0.168561,
     "end_time": "2022-06-04T15:49:12.792153",
     "exception": false,
     "start_time": "2022-06-04T15:49:12.623592",
     "status": "completed"
    },
    "tags": []
   },
   "outputs": [
    {
     "data": {
      "text/plain": [
       "<AxesSubplot:xlabel='species', ylabel='count'>"
      ]
     },
     "execution_count": 14,
     "metadata": {},
     "output_type": "execute_result"
    },
    {
     "data": {
      "image/png": "[encoded data removed]",
      "text/plain": [
       "<Figure size 432x288 with 1 Axes>"
      ]
     },
     "metadata": {
      "needs_background": "light"
     },
     "output_type": "display_data"
    }
   ],
   "source": [
    "sns.countplot(x='species',data=data)"
   ]
  },
  {
   "cell_type": "code",
   "execution_count": 15,
   "id": "fb829bea",
   "metadata": {
    "execution": {
     "iopub.execute_input": "2022-06-04T15:49:12.815298Z",
     "iopub.status.busy": "2022-06-04T15:49:12.814570Z",
     "iopub.status.idle": "2022-06-04T15:49:13.398405Z",
     "shell.execute_reply": "2022-06-04T15:49:13.397643Z"
    },
    "papermill": {
     "duration": 0.59751,
     "end_time": "2022-06-04T15:49:13.400303",
     "exception": false,
     "start_time": "2022-06-04T15:49:12.802793",
     "status": "completed"
    },
    "tags": []
   },
   "outputs": [
    {
     "data": {
      "text/plain": [
       "array([[<AxesSubplot:title={'center':'sepal_length'}>,\n",
       "        <AxesSubplot:title={'center':'sepal_width'}>],\n",
       "       [<AxesSubplot:title={'center':'petal_length'}>,\n",
       "        <AxesSubplot:title={'center':'petal_width'}>],\n",
       "       [<AxesSubplot:title={'center':'species'}>, <AxesSubplot:>]],\n",
       "      dtype=object)"
      ]
     },
     "execution_count": 15,
     "metadata": {},
     "output_type": "execute_result"
    },
    {
     "data": {
      "image/png": "[encoded data removed]",
      "text/plain": [
       "<Figure size 432x288 with 6 Axes>"
      ]
     },
     "metadata": {
      "needs_background": "light"
     },
     "output_type": "display_data"
    }
   ],
   "source": [
    "data.hist()"
   ]
  },
  {
   "cell_type": "code",
   "execution_count": 16,
   "id": "9281ffaf",
   "metadata": {
    "execution": {
     "iopub.execute_input": "2022-06-04T15:49:13.425396Z",
     "iopub.status.busy": "2022-06-04T15:49:13.424869Z",
     "iopub.status.idle": "2022-06-04T15:49:13.611350Z",
     "shell.execute_reply": "2022-06-04T15:49:13.610408Z"
    },
    "papermill": {
     "duration": 0.201758,
     "end_time": "2022-06-04T15:49:13.613832",
     "exception": false,
     "start_time": "2022-06-04T15:49:13.412074",
     "status": "completed"
    },
    "tags": []
   },
   "outputs": [],
   "source": [
    "from sklearn.model_selection import train_test_split\n",
    "from sklearn.neighbors import KNeighborsClassifier\n",
    "from sklearn.linear_model import LogisticRegression"
   ]
  },
  {
   "cell_type": "code",
   "execution_count": 17,
   "id": "15e9ac2e",
   "metadata": {
    "execution": {
     "iopub.execute_input": "2022-06-04T15:49:13.637646Z",
     "iopub.status.busy": "2022-06-04T15:49:13.637230Z",
     "iopub.status.idle": "2022-06-04T15:49:13.643704Z",
     "shell.execute_reply": "2022-06-04T15:49:13.642737Z"
    },
    "papermill": {
     "duration": 0.020889,
     "end_time": "2022-06-04T15:49:13.645866",
     "exception": false,
     "start_time": "2022-06-04T15:49:13.624977",
     "status": "completed"
    },
    "tags": []
   },
   "outputs": [
    {
     "name": "stdout",
     "output_type": "stream",
     "text": [
      "(150, 4)\n",
      "(150,)\n"
     ]
    }
   ],
   "source": [
    "X = data.iloc[:,:-1]\n",
    "y = data.iloc[:,-1]\n",
    "print(X.shape)\n",
    "print(y.shape)"
   ]
  },
  {
   "cell_type": "code",
   "execution_count": 18,
   "id": "e737cd7d",
   "metadata": {
    "execution": {
     "iopub.execute_input": "2022-06-04T15:49:13.669702Z",
     "iopub.status.busy": "2022-06-04T15:49:13.669303Z",
     "iopub.status.idle": "2022-06-04T15:49:13.677136Z",
     "shell.execute_reply": "2022-06-04T15:49:13.675849Z"
    },
    "papermill": {
     "duration": 0.022155,
     "end_time": "2022-06-04T15:49:13.679194",
     "exception": false,
     "start_time": "2022-06-04T15:49:13.657039",
     "status": "completed"
    },
    "tags": []
   },
   "outputs": [
    {
     "name": "stdout",
     "output_type": "stream",
     "text": [
      "(120, 4)\n",
      "(120,)\n",
      "(30, 4)\n",
      "(30,)\n"
     ]
    }
   ],
   "source": [
    "X_train,X_test,y_train,y_test = train_test_split(X,y,test_size=0.2,shuffle=True)\n",
    "print(X_train.shape)\n",
    "print(y_train.shape)\n",
    "print(X_test.shape)\n",
    "print(y_test.shape)"
   ]
  },
  {
   "cell_type": "code",
   "execution_count": 19,
   "id": "4b7bab78",
   "metadata": {
    "execution": {
     "iopub.execute_input": "2022-06-04T15:49:13.703125Z",
     "iopub.status.busy": "2022-06-04T15:49:13.702576Z",
     "iopub.status.idle": "2022-06-04T15:49:13.719875Z",
     "shell.execute_reply": "2022-06-04T15:49:13.718400Z"
    },
    "papermill": {
     "duration": 0.031707,
     "end_time": "2022-06-04T15:49:13.721945",
     "exception": false,
     "start_time": "2022-06-04T15:49:13.690238",
     "status": "completed"
    },
    "tags": []
   },
   "outputs": [
    {
     "name": "stderr",
     "output_type": "stream",
     "text": [
      "/opt/conda/lib/python3.7/site-packages/sklearn/linear_model/_sag.py:354: ConvergenceWarning: The max_iter was reached which means the coef_ did not converge\n",
      "  ConvergenceWarning,\n"
     ]
    },
    {
     "data": {
      "text/plain": [
       "LogisticRegression(random_state=33, solver='sag')"
      ]
     },
     "execution_count": 19,
     "metadata": {},
     "output_type": "execute_result"
    }
   ],
   "source": [
    "LogisticRegressionModel = LogisticRegression(penalty='l2',solver='sag',C=1.0,random_state=33)\n",
    "LogisticRegressionModel.fit(X_train, y_train)\n"
   ]
  },
  {
   "cell_type": "code",
   "execution_count": 20,
   "id": "024ec7a7",
   "metadata": {
    "execution": {
     "iopub.execute_input": "2022-06-04T15:49:13.747453Z",
     "iopub.status.busy": "2022-06-04T15:49:13.747012Z",
     "iopub.status.idle": "2022-06-04T15:49:13.760208Z",
     "shell.execute_reply": "2022-06-04T15:49:13.759265Z"
    },
    "papermill": {
     "duration": 0.028344,
     "end_time": "2022-06-04T15:49:13.762201",
     "exception": false,
     "start_time": "2022-06-04T15:49:13.733857",
     "status": "completed"
    },
    "tags": []
   },
   "outputs": [
    {
     "name": "stdout",
     "output_type": "stream",
     "text": [
      "LogisticRegressionModel Train Score is :  0.9833333333333333\n",
      "LogisticRegressionModel Test Score is :  0.9666666666666667\n",
      "LogisticRegressionModel Classes are :  [0 1 2]\n",
      "LogisticRegressionModel No. of iteratios is :  [100]\n",
      "----------------------------------------------------\n"
     ]
    }
   ],
   "source": [
    "#Calculating Details\n",
    "print('LogisticRegressionModel Train Score is : ' , LogisticRegressionModel.score(X_train, y_train))\n",
    "print('LogisticRegressionModel Test Score is : ' , LogisticRegressionModel.score(X_test, y_test))\n",
    "print('LogisticRegressionModel Classes are : ' , LogisticRegressionModel.classes_)\n",
    "print('LogisticRegressionModel No. of iteratios is : ' , LogisticRegressionModel.n_iter_)\n",
    "print('----------------------------------------------------')"
   ]
  },
  {
   "cell_type": "code",
   "execution_count": 21,
   "id": "2dc736e9",
   "metadata": {
    "execution": {
     "iopub.execute_input": "2022-06-04T15:49:13.787952Z",
     "iopub.status.busy": "2022-06-04T15:49:13.787347Z",
     "iopub.status.idle": "2022-06-04T15:49:13.797372Z",
     "shell.execute_reply": "2022-06-04T15:49:13.796216Z"
    },
    "papermill": {
     "duration": 0.025222,
     "end_time": "2022-06-04T15:49:13.799428",
     "exception": false,
     "start_time": "2022-06-04T15:49:13.774206",
     "status": "completed"
    },
    "tags": []
   },
   "outputs": [
    {
     "name": "stdout",
     "output_type": "stream",
     "text": [
      "Predicted Value for LogisticRegressionModel is :  [1 1 1 1 2 0 2 1 0 1]\n",
      "Prediction Probabilities Value for LogisticRegressionModel is :  [[2.84006924e-02 8.23324197e-01 1.48275111e-01]\n",
      " [7.75447403e-03 7.75684356e-01 2.16561170e-01]\n",
      " [9.22923073e-03 7.19557295e-01 2.71213475e-01]\n",
      " [3.15689668e-02 7.38968746e-01 2.29462287e-01]\n",
      " [4.04155355e-03 3.87686955e-01 6.08271491e-01]\n",
      " [9.32654935e-01 6.73404924e-02 4.57270843e-06]\n",
      " [1.92817671e-03 4.73397353e-01 5.24674470e-01]\n",
      " [4.39780981e-02 8.83362084e-01 7.26598176e-02]\n",
      " [9.81295596e-01 1.87040215e-02 3.82707170e-07]\n",
      " [1.37033109e-02 7.69031531e-01 2.17265158e-01]]\n"
     ]
    }
   ],
   "source": [
    "#Calculating Prediction\n",
    "y_pred = LogisticRegressionModel.predict(X_test)\n",
    "y_pred_prob = LogisticRegressionModel.predict_proba(X_test)\n",
    "print('Predicted Value for LogisticRegressionModel is : ' , y_pred[:10])\n",
    "print('Prediction Probabilities Value for LogisticRegressionModel is : ' , y_pred_prob[:10])"
   ]
  },
  {
   "cell_type": "code",
   "execution_count": 22,
   "id": "72aeed48",
   "metadata": {
    "execution": {
     "iopub.execute_input": "2022-06-04T15:49:13.824338Z",
     "iopub.status.busy": "2022-06-04T15:49:13.823921Z",
     "iopub.status.idle": "2022-06-04T15:49:13.830963Z",
     "shell.execute_reply": "2022-06-04T15:49:13.830090Z"
    },
    "papermill": {
     "duration": 0.022119,
     "end_time": "2022-06-04T15:49:13.832998",
     "exception": false,
     "start_time": "2022-06-04T15:49:13.810879",
     "status": "completed"
    },
    "tags": []
   },
   "outputs": [
    {
     "data": {
      "text/plain": [
       "96     1\n",
       "76     1\n",
       "90     1\n",
       "85     1\n",
       "138    2\n",
       "25     0\n",
       "72     1\n",
       "71     1\n",
       "18     0\n",
       "53     1\n",
       "Name: species, dtype: int64"
      ]
     },
     "execution_count": 22,
     "metadata": {},
     "output_type": "execute_result"
    }
   ],
   "source": [
    "y_test[0:10]"
   ]
  },
  {
   "cell_type": "code",
   "execution_count": 23,
   "id": "fe0e5f84",
   "metadata": {
    "execution": {
     "iopub.execute_input": "2022-06-04T15:49:13.858188Z",
     "iopub.status.busy": "2022-06-04T15:49:13.857783Z",
     "iopub.status.idle": "2022-06-04T15:49:13.986114Z",
     "shell.execute_reply": "2022-06-04T15:49:13.985070Z"
    },
    "papermill": {
     "duration": 0.143666,
     "end_time": "2022-06-04T15:49:13.988432",
     "exception": false,
     "start_time": "2022-06-04T15:49:13.844766",
     "status": "completed"
    },
    "tags": []
   },
   "outputs": [
    {
     "name": "stdout",
     "output_type": "stream",
     "text": [
      "[0.9333333333333333, 0.9, 0.9333333333333333, 0.9, 0.9, 0.9, 0.9, 0.9, 0.8666666666666667, 0.9, 0.9666666666666667, 0.9, 0.9666666666666667, 0.9333333333333333, 0.9666666666666667, 0.9333333333333333, 0.9333333333333333, 0.9333333333333333, 0.9666666666666667, 0.9333333333333333, 0.9333333333333333, 0.9, 0.9, 0.9, 0.9]\n"
     ]
    }
   ],
   "source": [
    "from sklearn import metrics\n",
    "k_range = range(1,26)\n",
    "scores = []\n",
    "for k in k_range:\n",
    "    knn = KNeighborsClassifier(n_neighbors= k)\n",
    "    knn.fit(X_train , y_train)\n",
    "    y_pred = knn.predict(X_test)\n",
    "    scores.append(metrics.accuracy_score(y_test , y_pred) )\n",
    "print(scores)"
   ]
  },
  {
   "cell_type": "code",
   "execution_count": 24,
   "id": "460f97aa",
   "metadata": {
    "execution": {
     "iopub.execute_input": "2022-06-04T15:49:14.014134Z",
     "iopub.status.busy": "2022-06-04T15:49:14.012952Z",
     "iopub.status.idle": "2022-06-04T15:49:14.192921Z",
     "shell.execute_reply": "2022-06-04T15:49:14.191856Z"
    },
    "papermill": {
     "duration": 0.195456,
     "end_time": "2022-06-04T15:49:14.195621",
     "exception": false,
     "start_time": "2022-06-04T15:49:14.000165",
     "status": "completed"
    },
    "tags": []
   },
   "outputs": [
    {
     "data": {
      "text/plain": [
       "Text(0, 0.5, 'testing accuracy')"
      ]
     },
     "execution_count": 24,
     "metadata": {},
     "output_type": "execute_result"
    },
    {
     "data": {
      "image/png": "[encoded data removed]",
      "text/plain": [
       "<Figure size 432x288 with 1 Axes>"
      ]
     },
     "metadata": {
      "needs_background": "light"
     },
     "output_type": "display_data"
    }
   ],
   "source": [
    "plt.plot(k_range , scores)\n",
    "plt.xlabel('Values for k in KNN')\n",
    "plt.ylabel('testing accuracy')"
   ]
  }
 ],
 "metadata": {
  "kernelspec": {
   "display_name": "Python 3",
   "language": "python",
   "name": "python3"
  },
  "language_info": {
   "codemirror_mode": {
    "name": "ipython",
    "version": 3
   },
   "file_extension": ".py",
   "mimetype": "text/x-python",
   "name": "python",
   "nbconvert_exporter": "python",
   "pygments_lexer": "ipython3",
   "version": "3.7.12"
  },
  "papermill": {
   "default_parameters": {},
   "duration": 15.126854,
   "end_time": "2022-06-04T15:49:15.029180",
   "environment_variables": {},
   "exception": null,
   "input_path": "__notebook__.ipynb",
   "output_path": "__notebook__.ipynb",
   "parameters": {},
   "start_time": "2022-06-04T15:48:59.902326",
   "version": "2.3.4"
  }
 },
 "nbformat": 4,
 "nbformat_minor": 5
}
