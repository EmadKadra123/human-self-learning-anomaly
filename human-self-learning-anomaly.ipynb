{
 "cells": [
  {
   "cell_type": "code",
   "execution_count": 1,
   "id": "077f57ae",
   "metadata": {
    "execution": {
     "iopub.execute_input": "2022-06-04T15:33:40.357668Z",
     "iopub.status.busy": "2022-06-04T15:33:40.356884Z",
     "iopub.status.idle": "2022-06-04T15:33:40.375057Z",
     "shell.execute_reply": "2022-06-04T15:33:40.374155Z"
    },
    "papermill": {
     "duration": 0.033741,
     "end_time": "2022-06-04T15:33:40.377638",
     "exception": false,
     "start_time": "2022-06-04T15:33:40.343897",
     "status": "completed"
    },
    "tags": []
   },
   "outputs": [
    {
     "name": "stdout",
     "output_type": "stream",
     "text": [
      "/kaggle/input/iris-flower-dataset/IRIS.csv\n"
     ]
    }
   ],
   "source": [
    "# This Python 3 environment comes with many helpful analytics libraries installed\n",
    "# It is defined by the kaggle/python Docker image: https://github.com/kaggle/docker-python\n",
    "# For example, here's several helpful packages to load\n",
    "\n",
    "import numpy as np # linear algebra\n",
    "import pandas as pd # data processing, CSV file I/O (e.g. pd.read_csv)\n",
    "\n",
    "# Input data files are available in the read-only \"../input/\" directory\n",
    "# For example, running this (by clicking run or pressing Shift+Enter) will list all files under the input directory\n",
    "\n",
    "import os\n",
    "for dirname, _, filenames in os.walk('/kaggle/input'):\n",
    "    for filename in filenames:\n",
    "        print(os.path.join(dirname, filename))\n",
    "\n",
    "# You can write up to 20GB to the current directory (/kaggle/working/) that gets preserved as output when you create a version using \"Save & Run All\" \n",
    "# You can also write temporary files to /kaggle/temp/, but they won't be saved outside of the current session"
   ]
  },
  {
   "cell_type": "code",
   "execution_count": 2,
   "id": "3803b791",
   "metadata": {
    "execution": {
     "iopub.execute_input": "2022-06-04T15:33:40.395872Z",
     "iopub.status.busy": "2022-06-04T15:33:40.395118Z",
     "iopub.status.idle": "2022-06-04T15:33:40.429501Z",
     "shell.execute_reply": "2022-06-04T15:33:40.428668Z"
    },
    "papermill": {
     "duration": 0.045609,
     "end_time": "2022-06-04T15:33:40.431665",
     "exception": false,
     "start_time": "2022-06-04T15:33:40.386056",
     "status": "completed"
    },
    "tags": []
   },
   "outputs": [
    {
     "data": {
      "text/html": [
       "<div>\n",
       "<style scoped>\n",
       "    .dataframe tbody tr th:only-of-type {\n",
       "        vertical-align: middle;\n",
       "    }\n",
       "\n",
       "    .dataframe tbody tr th {\n",
       "        vertical-align: top;\n",
       "    }\n",
       "\n",
       "    .dataframe thead th {\n",
       "        text-align: right;\n",
       "    }\n",
       "</style>\n",
       "<table border=\"1\" class=\"dataframe\">\n",
       "  <thead>\n",
       "    <tr style=\"text-align: right;\">\n",
       "      <th></th>\n",
       "      <th>sepal_length</th>\n",
       "      <th>sepal_width</th>\n",
       "      <th>petal_length</th>\n",
       "      <th>petal_width</th>\n",
       "      <th>species</th>\n",
       "    </tr>\n",
       "  </thead>\n",
       "  <tbody>\n",
       "    <tr>\n",
       "      <th>0</th>\n",
       "      <td>5.1</td>\n",
       "      <td>3.5</td>\n",
       "      <td>1.4</td>\n",
       "      <td>0.2</td>\n",
       "      <td>Iris-setosa</td>\n",
       "    </tr>\n",
       "    <tr>\n",
       "      <th>1</th>\n",
       "      <td>4.9</td>\n",
       "      <td>3.0</td>\n",
       "      <td>1.4</td>\n",
       "      <td>0.2</td>\n",
       "      <td>Iris-setosa</td>\n",
       "    </tr>\n",
       "    <tr>\n",
       "      <th>2</th>\n",
       "      <td>4.7</td>\n",
       "      <td>3.2</td>\n",
       "      <td>1.3</td>\n",
       "      <td>0.2</td>\n",
       "      <td>Iris-setosa</td>\n",
       "    </tr>\n",
       "    <tr>\n",
       "      <th>3</th>\n",
       "      <td>4.6</td>\n",
       "      <td>3.1</td>\n",
       "      <td>1.5</td>\n",
       "      <td>0.2</td>\n",
       "      <td>Iris-setosa</td>\n",
       "    </tr>\n",
       "    <tr>\n",
       "      <th>4</th>\n",
       "      <td>5.0</td>\n",
       "      <td>3.6</td>\n",
       "      <td>1.4</td>\n",
       "      <td>0.2</td>\n",
       "      <td>Iris-setosa</td>\n",
       "    </tr>\n",
       "  </tbody>\n",
       "</table>\n",
       "</div>"
      ],
      "text/plain": [
       "   sepal_length  sepal_width  petal_length  petal_width      species\n",
       "0           5.1          3.5           1.4          0.2  Iris-setosa\n",
       "1           4.9          3.0           1.4          0.2  Iris-setosa\n",
       "2           4.7          3.2           1.3          0.2  Iris-setosa\n",
       "3           4.6          3.1           1.5          0.2  Iris-setosa\n",
       "4           5.0          3.6           1.4          0.2  Iris-setosa"
      ]
     },
     "execution_count": 2,
     "metadata": {},
     "output_type": "execute_result"
    }
   ],
   "source": [
    "data = pd.read_csv('/kaggle/input/iris-flower-dataset/IRIS.csv')\n",
    "data.head()"
   ]
  },
  {
   "cell_type": "code",
   "execution_count": 3,
   "id": "dd36cc13",
   "metadata": {
    "execution": {
     "iopub.execute_input": "2022-06-04T15:33:40.448756Z",
     "iopub.status.busy": "2022-06-04T15:33:40.448274Z",
     "iopub.status.idle": "2022-06-04T15:33:40.474982Z",
     "shell.execute_reply": "2022-06-04T15:33:40.473183Z"
    },
    "papermill": {
     "duration": 0.038382,
     "end_time": "2022-06-04T15:33:40.477752",
     "exception": false,
     "start_time": "2022-06-04T15:33:40.439370",
     "status": "completed"
    },
    "tags": []
   },
   "outputs": [
    {
     "name": "stdout",
     "output_type": "stream",
     "text": [
      "<class 'pandas.core.frame.DataFrame'>\n",
      "RangeIndex: 150 entries, 0 to 149\n",
      "Data columns (total 5 columns):\n",
      " #   Column        Non-Null Count  Dtype  \n",
      "---  ------        --------------  -----  \n",
      " 0   sepal_length  150 non-null    float64\n",
      " 1   sepal_width   150 non-null    float64\n",
      " 2   petal_length  150 non-null    float64\n",
      " 3   petal_width   150 non-null    float64\n",
      " 4   species       150 non-null    object \n",
      "dtypes: float64(4), object(1)\n",
      "memory usage: 6.0+ KB\n"
     ]
    }
   ],
   "source": [
    "data.info()"
   ]
  },
  {
   "cell_type": "code",
   "execution_count": 4,
   "id": "cbc0103a",
   "metadata": {
    "execution": {
     "iopub.execute_input": "2022-06-04T15:33:40.496160Z",
     "iopub.status.busy": "2022-06-04T15:33:40.495047Z",
     "iopub.status.idle": "2022-06-04T15:33:40.522572Z",
     "shell.execute_reply": "2022-06-04T15:33:40.521522Z"
    },
    "papermill": {
     "duration": 0.039487,
     "end_time": "2022-06-04T15:33:40.525271",
     "exception": false,
     "start_time": "2022-06-04T15:33:40.485784",
     "status": "completed"
    },
    "tags": []
   },
   "outputs": [
    {
     "data": {
      "text/html": [
       "<div>\n",
       "<style scoped>\n",
       "    .dataframe tbody tr th:only-of-type {\n",
       "        vertical-align: middle;\n",
       "    }\n",
       "\n",
       "    .dataframe tbody tr th {\n",
       "        vertical-align: top;\n",
       "    }\n",
       "\n",
       "    .dataframe thead th {\n",
       "        text-align: right;\n",
       "    }\n",
       "</style>\n",
       "<table border=\"1\" class=\"dataframe\">\n",
       "  <thead>\n",
       "    <tr style=\"text-align: right;\">\n",
       "      <th></th>\n",
       "      <th>sepal_length</th>\n",
       "      <th>sepal_width</th>\n",
       "      <th>petal_length</th>\n",
       "      <th>petal_width</th>\n",
       "      <th>species</th>\n",
       "    </tr>\n",
       "  </thead>\n",
       "  <tbody>\n",
       "    <tr>\n",
       "      <th>count</th>\n",
       "      <td>150.000000</td>\n",
       "      <td>150.000000</td>\n",
       "      <td>150.000000</td>\n",
       "      <td>150.000000</td>\n",
       "      <td>150</td>\n",
       "    </tr>\n",
       "    <tr>\n",
       "      <th>unique</th>\n",
       "      <td>NaN</td>\n",
       "      <td>NaN</td>\n",
       "      <td>NaN</td>\n",
       "      <td>NaN</td>\n",
       "      <td>3</td>\n",
       "    </tr>\n",
       "    <tr>\n",
       "      <th>top</th>\n",
       "      <td>NaN</td>\n",
       "      <td>NaN</td>\n",
       "      <td>NaN</td>\n",
       "      <td>NaN</td>\n",
       "      <td>Iris-setosa</td>\n",
       "    </tr>\n",
       "    <tr>\n",
       "      <th>freq</th>\n",
       "      <td>NaN</td>\n",
       "      <td>NaN</td>\n",
       "      <td>NaN</td>\n",
       "      <td>NaN</td>\n",
       "      <td>50</td>\n",
       "    </tr>\n",
       "    <tr>\n",
       "      <th>mean</th>\n",
       "      <td>5.843333</td>\n",
       "      <td>3.054000</td>\n",
       "      <td>3.758667</td>\n",
       "      <td>1.198667</td>\n",
       "      <td>NaN</td>\n",
       "    </tr>\n",
       "    <tr>\n",
       "      <th>std</th>\n",
       "      <td>0.828066</td>\n",
       "      <td>0.433594</td>\n",
       "      <td>1.764420</td>\n",
       "      <td>0.763161</td>\n",
       "      <td>NaN</td>\n",
       "    </tr>\n",
       "    <tr>\n",
       "      <th>min</th>\n",
       "      <td>4.300000</td>\n",
       "      <td>2.000000</td>\n",
       "      <td>1.000000</td>\n",
       "      <td>0.100000</td>\n",
       "      <td>NaN</td>\n",
       "    </tr>\n",
       "    <tr>\n",
       "      <th>25%</th>\n",
       "      <td>5.100000</td>\n",
       "      <td>2.800000</td>\n",
       "      <td>1.600000</td>\n",
       "      <td>0.300000</td>\n",
       "      <td>NaN</td>\n",
       "    </tr>\n",
       "    <tr>\n",
       "      <th>50%</th>\n",
       "      <td>5.800000</td>\n",
       "      <td>3.000000</td>\n",
       "      <td>4.350000</td>\n",
       "      <td>1.300000</td>\n",
       "      <td>NaN</td>\n",
       "    </tr>\n",
       "    <tr>\n",
       "      <th>75%</th>\n",
       "      <td>6.400000</td>\n",
       "      <td>3.300000</td>\n",
       "      <td>5.100000</td>\n",
       "      <td>1.800000</td>\n",
       "      <td>NaN</td>\n",
       "    </tr>\n",
       "    <tr>\n",
       "      <th>max</th>\n",
       "      <td>7.900000</td>\n",
       "      <td>4.400000</td>\n",
       "      <td>6.900000</td>\n",
       "      <td>2.500000</td>\n",
       "      <td>NaN</td>\n",
       "    </tr>\n",
       "  </tbody>\n",
       "</table>\n",
       "</div>"
      ],
      "text/plain": [
       "        sepal_length  sepal_width  petal_length  petal_width      species\n",
       "count     150.000000   150.000000    150.000000   150.000000          150\n",
       "unique           NaN          NaN           NaN          NaN            3\n",
       "top              NaN          NaN           NaN          NaN  Iris-setosa\n",
       "freq             NaN          NaN           NaN          NaN           50\n",
       "mean        5.843333     3.054000      3.758667     1.198667          NaN\n",
       "std         0.828066     0.433594      1.764420     0.763161          NaN\n",
       "min         4.300000     2.000000      1.000000     0.100000          NaN\n",
       "25%         5.100000     2.800000      1.600000     0.300000          NaN\n",
       "50%         5.800000     3.000000      4.350000     1.300000          NaN\n",
       "75%         6.400000     3.300000      5.100000     1.800000          NaN\n",
       "max         7.900000     4.400000      6.900000     2.500000          NaN"
      ]
     },
     "execution_count": 4,
     "metadata": {},
     "output_type": "execute_result"
    }
   ],
   "source": [
    "data.describe(include='all')"
   ]
  },
  {
   "cell_type": "code",
   "execution_count": 5,
   "id": "883e6c4c",
   "metadata": {
    "execution": {
     "iopub.execute_input": "2022-06-04T15:33:40.543411Z",
     "iopub.status.busy": "2022-06-04T15:33:40.542964Z",
     "iopub.status.idle": "2022-06-04T15:33:41.888849Z",
     "shell.execute_reply": "2022-06-04T15:33:41.887899Z"
    },
    "papermill": {
     "duration": 1.358158,
     "end_time": "2022-06-04T15:33:41.891564",
     "exception": false,
     "start_time": "2022-06-04T15:33:40.533406",
     "status": "completed"
    },
    "tags": []
   },
   "outputs": [],
   "source": [
    "from sklearn.preprocessing import LabelEncoder\n",
    "import matplotlib.pyplot as plt\n",
    "import seaborn as sns\n",
    "%matplotlib inline"
   ]
  },
  {
   "cell_type": "code",
   "execution_count": 6,
   "id": "4a056c4d",
   "metadata": {
    "execution": {
     "iopub.execute_input": "2022-06-04T15:33:41.909792Z",
     "iopub.status.busy": "2022-06-04T15:33:41.909353Z",
     "iopub.status.idle": "2022-06-04T15:33:41.916514Z",
     "shell.execute_reply": "2022-06-04T15:33:41.915657Z"
    },
    "papermill": {
     "duration": 0.018763,
     "end_time": "2022-06-04T15:33:41.918612",
     "exception": false,
     "start_time": "2022-06-04T15:33:41.899849",
     "status": "completed"
    },
    "tags": []
   },
   "outputs": [
    {
     "data": {
      "text/plain": [
       "array(['Iris-setosa', 'Iris-versicolor', 'Iris-virginica'], dtype=object)"
      ]
     },
     "execution_count": 6,
     "metadata": {},
     "output_type": "execute_result"
    }
   ],
   "source": [
    "data['species'].unique()"
   ]
  },
  {
   "cell_type": "code",
   "execution_count": 7,
   "id": "a81b4337",
   "metadata": {
    "execution": {
     "iopub.execute_input": "2022-06-04T15:33:41.936740Z",
     "iopub.status.busy": "2022-06-04T15:33:41.936181Z",
     "iopub.status.idle": "2022-06-04T15:33:41.951069Z",
     "shell.execute_reply": "2022-06-04T15:33:41.950335Z"
    },
    "papermill": {
     "duration": 0.026223,
     "end_time": "2022-06-04T15:33:41.952987",
     "exception": false,
     "start_time": "2022-06-04T15:33:41.926764",
     "status": "completed"
    },
    "tags": []
   },
   "outputs": [
    {
     "data": {
      "text/html": [
       "<div>\n",
       "<style scoped>\n",
       "    .dataframe tbody tr th:only-of-type {\n",
       "        vertical-align: middle;\n",
       "    }\n",
       "\n",
       "    .dataframe tbody tr th {\n",
       "        vertical-align: top;\n",
       "    }\n",
       "\n",
       "    .dataframe thead th {\n",
       "        text-align: right;\n",
       "    }\n",
       "</style>\n",
       "<table border=\"1\" class=\"dataframe\">\n",
       "  <thead>\n",
       "    <tr style=\"text-align: right;\">\n",
       "      <th></th>\n",
       "      <th>sepal_length</th>\n",
       "      <th>sepal_width</th>\n",
       "      <th>petal_length</th>\n",
       "      <th>petal_width</th>\n",
       "      <th>species</th>\n",
       "    </tr>\n",
       "  </thead>\n",
       "  <tbody>\n",
       "    <tr>\n",
       "      <th>0</th>\n",
       "      <td>5.1</td>\n",
       "      <td>3.5</td>\n",
       "      <td>1.4</td>\n",
       "      <td>0.2</td>\n",
       "      <td>0</td>\n",
       "    </tr>\n",
       "    <tr>\n",
       "      <th>1</th>\n",
       "      <td>4.9</td>\n",
       "      <td>3.0</td>\n",
       "      <td>1.4</td>\n",
       "      <td>0.2</td>\n",
       "      <td>0</td>\n",
       "    </tr>\n",
       "    <tr>\n",
       "      <th>2</th>\n",
       "      <td>4.7</td>\n",
       "      <td>3.2</td>\n",
       "      <td>1.3</td>\n",
       "      <td>0.2</td>\n",
       "      <td>0</td>\n",
       "    </tr>\n",
       "    <tr>\n",
       "      <th>3</th>\n",
       "      <td>4.6</td>\n",
       "      <td>3.1</td>\n",
       "      <td>1.5</td>\n",
       "      <td>0.2</td>\n",
       "      <td>0</td>\n",
       "    </tr>\n",
       "    <tr>\n",
       "      <th>4</th>\n",
       "      <td>5.0</td>\n",
       "      <td>3.6</td>\n",
       "      <td>1.4</td>\n",
       "      <td>0.2</td>\n",
       "      <td>0</td>\n",
       "    </tr>\n",
       "  </tbody>\n",
       "</table>\n",
       "</div>"
      ],
      "text/plain": [
       "   sepal_length  sepal_width  petal_length  petal_width  species\n",
       "0           5.1          3.5           1.4          0.2        0\n",
       "1           4.9          3.0           1.4          0.2        0\n",
       "2           4.7          3.2           1.3          0.2        0\n",
       "3           4.6          3.1           1.5          0.2        0\n",
       "4           5.0          3.6           1.4          0.2        0"
      ]
     },
     "execution_count": 7,
     "metadata": {},
     "output_type": "execute_result"
    }
   ],
   "source": [
    "le = LabelEncoder()\n",
    "data['species']=le.fit_transform(data['species'])\n",
    "data.head()"
   ]
  },
  {
   "cell_type": "code",
   "execution_count": 8,
   "id": "4f9f8fc7",
   "metadata": {
    "execution": {
     "iopub.execute_input": "2022-06-04T15:33:41.972313Z",
     "iopub.status.busy": "2022-06-04T15:33:41.971309Z",
     "iopub.status.idle": "2022-06-04T15:33:41.986563Z",
     "shell.execute_reply": "2022-06-04T15:33:41.985336Z"
    },
    "papermill": {
     "duration": 0.027545,
     "end_time": "2022-06-04T15:33:41.989014",
     "exception": false,
     "start_time": "2022-06-04T15:33:41.961469",
     "status": "completed"
    },
    "tags": []
   },
   "outputs": [
    {
     "data": {
      "text/html": [
       "<div>\n",
       "<style scoped>\n",
       "    .dataframe tbody tr th:only-of-type {\n",
       "        vertical-align: middle;\n",
       "    }\n",
       "\n",
       "    .dataframe tbody tr th {\n",
       "        vertical-align: top;\n",
       "    }\n",
       "\n",
       "    .dataframe thead th {\n",
       "        text-align: right;\n",
       "    }\n",
       "</style>\n",
       "<table border=\"1\" class=\"dataframe\">\n",
       "  <thead>\n",
       "    <tr style=\"text-align: right;\">\n",
       "      <th></th>\n",
       "      <th>sepal_length</th>\n",
       "      <th>sepal_width</th>\n",
       "      <th>petal_length</th>\n",
       "      <th>petal_width</th>\n",
       "      <th>species</th>\n",
       "    </tr>\n",
       "  </thead>\n",
       "  <tbody>\n",
       "    <tr>\n",
       "      <th>sepal_length</th>\n",
       "      <td>1.000000</td>\n",
       "      <td>-0.109369</td>\n",
       "      <td>0.871754</td>\n",
       "      <td>0.817954</td>\n",
       "      <td>0.782561</td>\n",
       "    </tr>\n",
       "    <tr>\n",
       "      <th>sepal_width</th>\n",
       "      <td>-0.109369</td>\n",
       "      <td>1.000000</td>\n",
       "      <td>-0.420516</td>\n",
       "      <td>-0.356544</td>\n",
       "      <td>-0.419446</td>\n",
       "    </tr>\n",
       "    <tr>\n",
       "      <th>petal_length</th>\n",
       "      <td>0.871754</td>\n",
       "      <td>-0.420516</td>\n",
       "      <td>1.000000</td>\n",
       "      <td>0.962757</td>\n",
       "      <td>0.949043</td>\n",
       "    </tr>\n",
       "    <tr>\n",
       "      <th>petal_width</th>\n",
       "      <td>0.817954</td>\n",
       "      <td>-0.356544</td>\n",
       "      <td>0.962757</td>\n",
       "      <td>1.000000</td>\n",
       "      <td>0.956464</td>\n",
       "    </tr>\n",
       "    <tr>\n",
       "      <th>species</th>\n",
       "      <td>0.782561</td>\n",
       "      <td>-0.419446</td>\n",
       "      <td>0.949043</td>\n",
       "      <td>0.956464</td>\n",
       "      <td>1.000000</td>\n",
       "    </tr>\n",
       "  </tbody>\n",
       "</table>\n",
       "</div>"
      ],
      "text/plain": [
       "              sepal_length  sepal_width  petal_length  petal_width   species\n",
       "sepal_length      1.000000    -0.109369      0.871754     0.817954  0.782561\n",
       "sepal_width      -0.109369     1.000000     -0.420516    -0.356544 -0.419446\n",
       "petal_length      0.871754    -0.420516      1.000000     0.962757  0.949043\n",
       "petal_width       0.817954    -0.356544      0.962757     1.000000  0.956464\n",
       "species           0.782561    -0.419446      0.949043     0.956464  1.000000"
      ]
     },
     "execution_count": 8,
     "metadata": {},
     "output_type": "execute_result"
    }
   ],
   "source": [
    "data.corr()"
   ]
  },
  {
   "cell_type": "code",
   "execution_count": 9,
   "id": "3e48acfb",
   "metadata": {
    "execution": {
     "iopub.execute_input": "2022-06-04T15:33:42.008674Z",
     "iopub.status.busy": "2022-06-04T15:33:42.007824Z",
     "iopub.status.idle": "2022-06-04T15:33:42.303147Z",
     "shell.execute_reply": "2022-06-04T15:33:42.301814Z"
    },
    "papermill": {
     "duration": 0.308108,
     "end_time": "2022-06-04T15:33:42.305876",
     "exception": false,
     "start_time": "2022-06-04T15:33:41.997768",
     "status": "completed"
    },
    "tags": []
   },
   "outputs": [
    {
     "data": {
      "text/plain": [
       "<AxesSubplot:>"
      ]
     },
     "execution_count": 9,
     "metadata": {},
     "output_type": "execute_result"
    },
    {
     "data": {
      "image/png": "[encoded data removed]",
      "text/plain": [
       "<Figure size 432x288 with 2 Axes>"
      ]
     },
     "metadata": {
      "needs_background": "light"
     },
     "output_type": "display_data"
    }
   ],
   "source": [
    "sns.heatmap(data.corr())"
   ]
  },
  {
   "cell_type": "code",
   "execution_count": 10,
   "id": "669cf45f",
   "metadata": {
    "execution": {
     "iopub.execute_input": "2022-06-04T15:33:42.327208Z",
     "iopub.status.busy": "2022-06-04T15:33:42.326216Z",
     "iopub.status.idle": "2022-06-04T15:33:42.560255Z",
     "shell.execute_reply": "2022-06-04T15:33:42.559495Z"
    },
    "papermill": {
     "duration": 0.247007,
     "end_time": "2022-06-04T15:33:42.562297",
     "exception": false,
     "start_time": "2022-06-04T15:33:42.315290",
     "status": "completed"
    },
    "tags": []
   },
   "outputs": [
    {
     "data": {
      "text/plain": [
       "<AxesSubplot:xlabel='sepal_length', ylabel='species'>"
      ]
     },
     "execution_count": 10,
     "metadata": {},
     "output_type": "execute_result"
    },
    {
     "data": {
      "image/png": "[encoded data removed]",
      "text/plain": [
       "<Figure size 432x288 with 1 Axes>"
      ]
     },
     "metadata": {
      "needs_background": "light"
     },
     "output_type": "display_data"
    }
   ],
   "source": [
    "sns.scatterplot(x='sepal_length',y='species', data=data)"
   ]
  },
  {
   "cell_type": "code",
   "execution_count": 11,
   "id": "94f15fce",
   "metadata": {
    "execution": {
     "iopub.execute_input": "2022-06-04T15:33:42.583330Z",
     "iopub.status.busy": "2022-06-04T15:33:42.582712Z",
     "iopub.status.idle": "2022-06-04T15:33:42.804279Z",
     "shell.execute_reply": "2022-06-04T15:33:42.803509Z"
    },
    "papermill": {
     "duration": 0.234618,
     "end_time": "2022-06-04T15:33:42.806260",
     "exception": false,
     "start_time": "2022-06-04T15:33:42.571642",
     "status": "completed"
    },
    "tags": []
   },
   "outputs": [
    {
     "data": {
      "text/plain": [
       "<AxesSubplot:xlabel='sepal_width', ylabel='species'>"
      ]
     },
     "execution_count": 11,
     "metadata": {},
     "output_type": "execute_result"
    },
    {
     "data": {
      "image/png": "[encoded data removed]",
      "text/plain": [
       "<Figure size 432x288 with 1 Axes>"
      ]
     },
     "metadata": {
      "needs_background": "light"
     },
     "output_type": "display_data"
    }
   ],
   "source": [
    "sns.scatterplot(x='sepal_width',y='species', data=data)"
   ]
  },
  {
   "cell_type": "code",
   "execution_count": 12,
   "id": "d0431143",
   "metadata": {
    "execution": {
     "iopub.execute_input": "2022-06-04T15:33:42.828042Z",
     "iopub.status.busy": "2022-06-04T15:33:42.827089Z",
     "iopub.status.idle": "2022-06-04T15:33:43.046255Z",
     "shell.execute_reply": "2022-06-04T15:33:43.045273Z"
    },
    "papermill": {
     "duration": 0.232493,
     "end_time": "2022-06-04T15:33:43.048561",
     "exception": false,
     "start_time": "2022-06-04T15:33:42.816068",
     "status": "completed"
    },
    "tags": []
   },
   "outputs": [
    {
     "data": {
      "text/plain": [
       "<AxesSubplot:xlabel='petal_length', ylabel='species'>"
      ]
     },
     "execution_count": 12,
     "metadata": {},
     "output_type": "execute_result"
    },
    {
     "data": {
      "image/png": "[encoded data removed]",
      "text/plain": [
       "<Figure size 432x288 with 1 Axes>"
      ]
     },
     "metadata": {
      "needs_background": "light"
     },
     "output_type": "display_data"
    }
   ],
   "source": [
    "sns.scatterplot(x='petal_length',y='species', data=data)"
   ]
  },
  {
   "cell_type": "code",
   "execution_count": 13,
   "id": "26106ddc",
   "metadata": {
    "execution": {
     "iopub.execute_input": "2022-06-04T15:33:43.070590Z",
     "iopub.status.busy": "2022-06-04T15:33:43.070149Z",
     "iopub.status.idle": "2022-06-04T15:33:43.284589Z",
     "shell.execute_reply": "2022-06-04T15:33:43.283515Z"
    },
    "papermill": {
     "duration": 0.228514,
     "end_time": "2022-06-04T15:33:43.287170",
     "exception": false,
     "start_time": "2022-06-04T15:33:43.058656",
     "status": "completed"
    },
    "tags": []
   },
   "outputs": [
    {
     "data": {
      "text/plain": [
       "<AxesSubplot:xlabel='petal_width', ylabel='species'>"
      ]
     },
     "execution_count": 13,
     "metadata": {},
     "output_type": "execute_result"
    },
    {
     "data": {
      "image/png": "[encoded data removed]",
      "text/plain": [
       "<Figure size 432x288 with 1 Axes>"
      ]
     },
     "metadata": {
      "needs_background": "light"
     },
     "output_type": "display_data"
    }
   ],
   "source": [
    "sns.scatterplot(x='petal_width',y='species', data=data)"
   ]
  },
  {
   "cell_type": "code",
   "execution_count": 14,
   "id": "cac51a1c",
   "metadata": {
    "execution": {
     "iopub.execute_input": "2022-06-04T15:33:43.311728Z",
     "iopub.status.busy": "2022-06-04T15:33:43.310439Z",
     "iopub.status.idle": "2022-06-04T15:33:43.431063Z",
     "shell.execute_reply": "2022-06-04T15:33:43.430064Z"
    },
    "papermill": {
     "duration": 0.134822,
     "end_time": "2022-06-04T15:33:43.433194",
     "exception": false,
     "start_time": "2022-06-04T15:33:43.298372",
     "status": "completed"
    },
    "tags": []
   },
   "outputs": [
    {
     "data": {
      "text/plain": [
       "<AxesSubplot:xlabel='species', ylabel='count'>"
      ]
     },
     "execution_count": 14,
     "metadata": {},
     "output_type": "execute_result"
    },
    {
     "data": {
      "image/png": "[encoded data removed]",
      "text/plain": [
       "<Figure size 432x288 with 1 Axes>"
      ]
     },
     "metadata": {
      "needs_background": "light"
     },
     "output_type": "display_data"
    }
   ],
   "source": [
    "sns.countplot(x='species',data=data)"
   ]
  },
  {
   "cell_type": "code",
   "execution_count": 15,
   "id": "e1cb14f2",
   "metadata": {
    "execution": {
     "iopub.execute_input": "2022-06-04T15:33:43.457061Z",
     "iopub.status.busy": "2022-06-04T15:33:43.456607Z",
     "iopub.status.idle": "2022-06-04T15:33:44.019915Z",
     "shell.execute_reply": "2022-06-04T15:33:44.018728Z"
    },
    "papermill": {
     "duration": 0.578138,
     "end_time": "2022-06-04T15:33:44.022270",
     "exception": false,
     "start_time": "2022-06-04T15:33:43.444132",
     "status": "completed"
    },
    "tags": []
   },
   "outputs": [
    {
     "data": {
      "text/plain": [
       "array([[<AxesSubplot:title={'center':'sepal_length'}>,\n",
       "        <AxesSubplot:title={'center':'sepal_width'}>],\n",
       "       [<AxesSubplot:title={'center':'petal_length'}>,\n",
       "        <AxesSubplot:title={'center':'petal_width'}>],\n",
       "       [<AxesSubplot:title={'center':'species'}>, <AxesSubplot:>]],\n",
       "      dtype=object)"
      ]
     },
     "execution_count": 15,
     "metadata": {},
     "output_type": "execute_result"
    },
    {
     "data": {
      "image/png": "[encoded data removed]",
      "text/plain": [
       "<Figure size 432x288 with 6 Axes>"
      ]
     },
     "metadata": {
      "needs_background": "light"
     },
     "output_type": "display_data"
    }
   ],
   "source": [
    "data.hist()"
   ]
  },
  {
   "cell_type": "code",
   "execution_count": 16,
   "id": "594c9a17",
   "metadata": {
    "execution": {
     "iopub.execute_input": "2022-06-04T15:33:44.047650Z",
     "iopub.status.busy": "2022-06-04T15:33:44.046545Z",
     "iopub.status.idle": "2022-06-04T15:33:44.251980Z",
     "shell.execute_reply": "2022-06-04T15:33:44.250811Z"
    },
    "papermill": {
     "duration": 0.221257,
     "end_time": "2022-06-04T15:33:44.254938",
     "exception": false,
     "start_time": "2022-06-04T15:33:44.033681",
     "status": "completed"
    },
    "tags": []
   },
   "outputs": [],
   "source": [
    "from sklearn.model_selection import train_test_split\n",
    "from sklearn.neighbors import KNeighborsClassifier\n",
    "from sklearn.linear_model import LogisticRegression"
   ]
  },
  {
   "cell_type": "code",
   "execution_count": 17,
   "id": "ea9ee1a0",
   "metadata": {
    "execution": {
     "iopub.execute_input": "2022-06-04T15:33:44.280373Z",
     "iopub.status.busy": "2022-06-04T15:33:44.279924Z",
     "iopub.status.idle": "2022-06-04T15:33:44.287027Z",
     "shell.execute_reply": "2022-06-04T15:33:44.285780Z"
    },
    "papermill": {
     "duration": 0.023363,
     "end_time": "2022-06-04T15:33:44.290092",
     "exception": false,
     "start_time": "2022-06-04T15:33:44.266729",
     "status": "completed"
    },
    "tags": []
   },
   "outputs": [
    {
     "name": "stdout",
     "output_type": "stream",
     "text": [
      "(150, 4)\n",
      "(150,)\n"
     ]
    }
   ],
   "source": [
    "X = data.iloc[:,:-1]\n",
    "y = data.iloc[:,-1]\n",
    "print(X.shape)\n",
    "print(y.shape)"
   ]
  },
  {
   "cell_type": "code",
   "execution_count": 18,
   "id": "e59c9499",
   "metadata": {
    "execution": {
     "iopub.execute_input": "2022-06-04T15:33:44.315469Z",
     "iopub.status.busy": "2022-06-04T15:33:44.315047Z",
     "iopub.status.idle": "2022-06-04T15:33:44.323134Z",
     "shell.execute_reply": "2022-06-04T15:33:44.321887Z"
    },
    "papermill": {
     "duration": 0.024511,
     "end_time": "2022-06-04T15:33:44.326246",
     "exception": false,
     "start_time": "2022-06-04T15:33:44.301735",
     "status": "completed"
    },
    "tags": []
   },
   "outputs": [
    {
     "name": "stdout",
     "output_type": "stream",
     "text": [
      "(120, 4)\n",
      "(120,)\n",
      "(30, 4)\n",
      "(30,)\n"
     ]
    }
   ],
   "source": [
    "X_train,X_test,y_train,y_test = train_test_split(X,y,test_size=0.2,shuffle=True)\n",
    "print(X_train.shape)\n",
    "print(y_train.shape)\n",
    "print(X_test.shape)\n",
    "print(y_test.shape)"
   ]
  },
  {
   "cell_type": "code",
   "execution_count": 19,
   "id": "537b8cf1",
   "metadata": {
    "execution": {
     "iopub.execute_input": "2022-06-04T15:33:44.353687Z",
     "iopub.status.busy": "2022-06-04T15:33:44.353246Z",
     "iopub.status.idle": "2022-06-04T15:33:44.372057Z",
     "shell.execute_reply": "2022-06-04T15:33:44.370938Z"
    },
    "papermill": {
     "duration": 0.03505,
     "end_time": "2022-06-04T15:33:44.374560",
     "exception": false,
     "start_time": "2022-06-04T15:33:44.339510",
     "status": "completed"
    },
    "tags": []
   },
   "outputs": [
    {
     "name": "stderr",
     "output_type": "stream",
     "text": [
      "/opt/conda/lib/python3.7/site-packages/sklearn/linear_model/_sag.py:354: ConvergenceWarning: The max_iter was reached which means the coef_ did not converge\n",
      "  ConvergenceWarning,\n"
     ]
    },
    {
     "data": {
      "text/plain": [
       "LogisticRegression(random_state=33, solver='sag')"
      ]
     },
     "execution_count": 19,
     "metadata": {},
     "output_type": "execute_result"
    }
   ],
   "source": [
    "LogisticRegressionModel = LogisticRegression(penalty='l2',solver='sag',C=1.0,random_state=33)\n",
    "LogisticRegressionModel.fit(X_train, y_train)\n"
   ]
  },
  {
   "cell_type": "code",
   "execution_count": 20,
   "id": "ba143566",
   "metadata": {
    "execution": {
     "iopub.execute_input": "2022-06-04T15:33:44.400739Z",
     "iopub.status.busy": "2022-06-04T15:33:44.400079Z",
     "iopub.status.idle": "2022-06-04T15:33:44.412860Z",
     "shell.execute_reply": "2022-06-04T15:33:44.411446Z"
    },
    "papermill": {
     "duration": 0.029016,
     "end_time": "2022-06-04T15:33:44.415472",
     "exception": false,
     "start_time": "2022-06-04T15:33:44.386456",
     "status": "completed"
    },
    "tags": []
   },
   "outputs": [
    {
     "name": "stdout",
     "output_type": "stream",
     "text": [
      "LogisticRegressionModel Train Score is :  0.975\n",
      "LogisticRegressionModel Test Score is :  1.0\n",
      "LogisticRegressionModel Classes are :  [0 1 2]\n",
      "LogisticRegressionModel No. of iteratios is :  [100]\n",
      "----------------------------------------------------\n"
     ]
    }
   ],
   "source": [
    "#Calculating Details\n",
    "print('LogisticRegressionModel Train Score is : ' , LogisticRegressionModel.score(X_train, y_train))\n",
    "print('LogisticRegressionModel Test Score is : ' , LogisticRegressionModel.score(X_test, y_test))\n",
    "print('LogisticRegressionModel Classes are : ' , LogisticRegressionModel.classes_)\n",
    "print('LogisticRegressionModel No. of iteratios is : ' , LogisticRegressionModel.n_iter_)\n",
    "print('----------------------------------------------------')"
   ]
  },
  {
   "cell_type": "code",
   "execution_count": 21,
   "id": "58e03c59",
   "metadata": {
    "execution": {
     "iopub.execute_input": "2022-06-04T15:33:44.441566Z",
     "iopub.status.busy": "2022-06-04T15:33:44.440788Z",
     "iopub.status.idle": "2022-06-04T15:33:44.451595Z",
     "shell.execute_reply": "2022-06-04T15:33:44.450700Z"
    },
    "papermill": {
     "duration": 0.02743,
     "end_time": "2022-06-04T15:33:44.454845",
     "exception": false,
     "start_time": "2022-06-04T15:33:44.427415",
     "status": "completed"
    },
    "tags": []
   },
   "outputs": [
    {
     "name": "stdout",
     "output_type": "stream",
     "text": [
      "Predicted Value for LogisticRegressionModel is :  [0 0 1 1 2 2 2 0 1 0]\n",
      "Prediction Probabilities Value for LogisticRegressionModel is :  [[9.83780931e-01 1.62189654e-02 1.03897586e-07]\n",
      " [9.46016968e-01 5.39816810e-02 1.35098538e-06]\n",
      " [2.45843083e-02 9.02370741e-01 7.30449507e-02]\n",
      " [2.37531644e-02 9.05234563e-01 7.10122723e-02]\n",
      " [1.00949846e-03 2.39693821e-01 7.59296681e-01]\n",
      " [3.91835058e-03 4.14050924e-01 5.82030726e-01]\n",
      " [5.71682044e-06 4.35655300e-02 9.56428753e-01]\n",
      " [9.94885943e-01 5.11404599e-03 1.05984783e-08]\n",
      " [2.90557768e-02 7.88436100e-01 1.82508124e-01]\n",
      " [9.81379683e-01 1.86201197e-02 1.97078018e-07]]\n"
     ]
    }
   ],
   "source": [
    "#Calculating Prediction\n",
    "y_pred = LogisticRegressionModel.predict(X_test)\n",
    "y_pred_prob = LogisticRegressionModel.predict_proba(X_test)\n",
    "print('Predicted Value for LogisticRegressionModel is : ' , y_pred[:10])\n",
    "print('Prediction Probabilities Value for LogisticRegressionModel is : ' , y_pred_prob[:10])"
   ]
  },
  {
   "cell_type": "code",
   "execution_count": 22,
   "id": "c14cb169",
   "metadata": {
    "execution": {
     "iopub.execute_input": "2022-06-04T15:33:44.481163Z",
     "iopub.status.busy": "2022-06-04T15:33:44.480660Z",
     "iopub.status.idle": "2022-06-04T15:33:44.487637Z",
     "shell.execute_reply": "2022-06-04T15:33:44.486794Z"
    },
    "papermill": {
     "duration": 0.023045,
     "end_time": "2022-06-04T15:33:44.490058",
     "exception": false,
     "start_time": "2022-06-04T15:33:44.467013",
     "status": "completed"
    },
    "tags": []
   },
   "outputs": [
    {
     "data": {
      "text/plain": [
       "36     0\n",
       "12     0\n",
       "75     1\n",
       "60     1\n",
       "147    2\n",
       "138    2\n",
       "122    2\n",
       "14     0\n",
       "59     1\n",
       "48     0\n",
       "Name: species, dtype: int64"
      ]
     },
     "execution_count": 22,
     "metadata": {},
     "output_type": "execute_result"
    }
   ],
   "source": [
    "y_test[0:10]"
   ]
  },
  {
   "cell_type": "code",
   "execution_count": 23,
   "id": "3cc49be8",
   "metadata": {
    "execution": {
     "iopub.execute_input": "2022-06-04T15:33:44.516260Z",
     "iopub.status.busy": "2022-06-04T15:33:44.515782Z",
     "iopub.status.idle": "2022-06-04T15:33:44.642124Z",
     "shell.execute_reply": "2022-06-04T15:33:44.641427Z"
    },
    "papermill": {
     "duration": 0.142638,
     "end_time": "2022-06-04T15:33:44.644725",
     "exception": false,
     "start_time": "2022-06-04T15:33:44.502087",
     "status": "completed"
    },
    "tags": []
   },
   "outputs": [
    {
     "name": "stdout",
     "output_type": "stream",
     "text": [
      "[1.0, 0.9666666666666667, 1.0, 1.0, 1.0, 0.9666666666666667, 0.9666666666666667, 0.9666666666666667, 0.9333333333333333, 0.9333333333333333, 0.9333333333333333, 0.9333333333333333, 0.9333333333333333, 0.9333333333333333, 0.9, 0.9, 0.9666666666666667, 0.9, 0.9333333333333333, 0.9, 0.9, 0.9, 0.9, 0.9, 0.9]\n"
     ]
    }
   ],
   "source": [
    "from sklearn import metrics\n",
    "k_range = range(1,26)\n",
    "scores = []\n",
    "for k in k_range:\n",
    "    knn = KNeighborsClassifier(n_neighbors= k)\n",
    "    knn.fit(X_train , y_train)\n",
    "    y_pred = knn.predict(X_test)\n",
    "    scores.append(metrics.accuracy_score(y_test , y_pred) )\n",
    "print(scores)"
   ]
  },
  {
   "cell_type": "code",
   "execution_count": 24,
   "id": "fd97e713",
   "metadata": {
    "execution": {
     "iopub.execute_input": "2022-06-04T15:33:44.671900Z",
     "iopub.status.busy": "2022-06-04T15:33:44.670700Z",
     "iopub.status.idle": "2022-06-04T15:33:44.813374Z",
     "shell.execute_reply": "2022-06-04T15:33:44.812352Z"
    },
    "papermill": {
     "duration": 0.159128,
     "end_time": "2022-06-04T15:33:44.815948",
     "exception": false,
     "start_time": "2022-06-04T15:33:44.656820",
     "status": "completed"
    },
    "tags": []
   },
   "outputs": [
    {
     "data": {
      "text/plain": [
       "Text(0, 0.5, 'testing accuracy')"
      ]
     },
     "execution_count": 24,
     "metadata": {},
     "output_type": "execute_result"
    },
    {
     "data": {
      "image/png": "[encoded data removed]",
      "text/plain": [
       "<Figure size 432x288 with 1 Axes>"
      ]
     },
     "metadata": {
      "needs_background": "light"
     },
     "output_type": "display_data"
    }
   ],
   "source": [
    "plt.plot(k_range , scores)\n",
    "plt.xlabel('Values for k in KNN')\n",
    "plt.ylabel('testing accuracy')"
   ]
  }
 ],
 "metadata": {
  "kernelspec": {
   "display_name": "Python 3",
   "language": "python",
   "name": "python3"
  },
  "language_info": {
   "codemirror_mode": {
    "name": "ipython",
    "version": 3
   },
   "file_extension": ".py",
   "mimetype": "text/x-python",
   "name": "python",
   "nbconvert_exporter": "python",
   "pygments_lexer": "ipython3",
   "version": "3.7.12"
  },
  "papermill": {
   "default_parameters": {},
   "duration": 16.343616,
   "end_time": "2022-06-04T15:33:45.755709",
   "environment_variables": {},
   "exception": null,
   "input_path": "__notebook__.ipynb",
   "output_path": "__notebook__.ipynb",
   "parameters": {},
   "start_time": "2022-06-04T15:33:29.412093",
   "version": "2.3.4"
  }
 },
 "nbformat": 4,
 "nbformat_minor": 5
}
