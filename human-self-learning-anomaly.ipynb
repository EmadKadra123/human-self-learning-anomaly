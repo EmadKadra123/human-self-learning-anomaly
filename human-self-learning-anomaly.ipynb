{
 "cells": [
  {
   "cell_type": "code",
   "execution_count": 1,
   "id": "45b7cfa8",
   "metadata": {
    "_cell_guid": "b1076dfc-b9ad-4769-8c92-a6c4dae69d19",
    "_uuid": "8f2839f25d086af736a60e9eeb907d3b93b6e0e5",
    "execution": {
     "iopub.execute_input": "2022-06-02T07:45:15.360948Z",
     "iopub.status.busy": "2022-06-02T07:45:15.360514Z",
     "iopub.status.idle": "2022-06-02T07:45:15.372902Z",
     "shell.execute_reply": "2022-06-02T07:45:15.372030Z"
    },
    "papermill": {
     "duration": 0.018869,
     "end_time": "2022-06-02T07:45:15.375199",
     "exception": false,
     "start_time": "2022-06-02T07:45:15.356330",
     "status": "completed"
    },
    "tags": []
   },
   "outputs": [],
   "source": [
    "# This Python 3 environment comes with many helpful analytics libraries installed\n",
    "# It is defined by the kaggle/python Docker image: https://github.com/kaggle/docker-python\n",
    "# For example, here's several helpful packages to load\n",
    "\n",
    "import numpy as np # linear algebra\n",
    "import pandas as pd # data processing, CSV file I/O (e.g. pd.read_csv)\n",
    "\n",
    "# Input data files are available in the read-only \"../input/\" directory\n",
    "# For example, running this (by clicking run or pressing Shift+Enter) will list all files under the input directory\n",
    "\n",
    "import os\n",
    "for dirname, _, filenames in os.walk('/kaggle/input'):\n",
    "    for filename in filenames:\n",
    "        print(os.path.join(dirname, filename))\n",
    "\n",
    "# You can write up to 20GB to the current directory (/kaggle/working/) that gets preserved as output when you create a version using \"Save & Run All\" \n",
    "# You can also write temporary files to /kaggle/temp/, but they won't be saved outside of the current session"
   ]
  },
  {
   "cell_type": "code",
   "execution_count": 2,
   "id": "415c519a",
   "metadata": {
    "execution": {
     "iopub.execute_input": "2022-06-02T07:45:15.380872Z",
     "iopub.status.busy": "2022-06-02T07:45:15.380226Z",
     "iopub.status.idle": "2022-06-02T07:45:15.386178Z",
     "shell.execute_reply": "2022-06-02T07:45:15.385143Z"
    },
    "papermill": {
     "duration": 0.011202,
     "end_time": "2022-06-02T07:45:15.388428",
     "exception": true,
     "start_time": "2022-06-02T07:45:15.377226",
     "status": "failed"
    },
    "tags": []
   },
   "outputs": [
    {
     "name": "stderr",
     "output_type": "stream",
     "text": [
      "UsageError: Line magic function `%` not found.\n"
     ]
    }
   ],
   "source": [
    "% git clone https://github.com/DegardinBruno/human-self-learning-anomaly.git"
   ]
  }
 ],
 "metadata": {
  "kernelspec": {
   "display_name": "Python 3",
   "language": "python",
   "name": "python3"
  },
  "language_info": {
   "codemirror_mode": {
    "name": "ipython",
    "version": 3
   },
   "file_extension": ".py",
   "mimetype": "text/x-python",
   "name": "python",
   "nbconvert_exporter": "python",
   "pygments_lexer": "ipython3",
   "version": "3.7.12"
  },
  "papermill": {
   "default_parameters": {},
   "duration": 11.064915,
   "end_time": "2022-06-02T07:45:16.012106",
   "environment_variables": {},
   "exception": true,
   "input_path": "__notebook__.ipynb",
   "output_path": "__notebook__.ipynb",
   "parameters": {},
   "start_time": "2022-06-02T07:45:04.947191",
   "version": "2.3.4"
  }
 },
 "nbformat": 4,
 "nbformat_minor": 5
}
